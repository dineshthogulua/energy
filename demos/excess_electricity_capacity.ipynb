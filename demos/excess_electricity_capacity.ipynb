{
 "cells": [
  {
   "cell_type": "markdown",
   "metadata": {},
   "source": [
    "# Overview\n",
    "We wish to know the excess electricity production capacity in every state in the U.S. during a specific month. The idea is to find out how well states are poised to serve excess demand during extreme weather events. For example, if we find out the excess capacity of a state in july, it might indicate how well the state can handle spikes in demand during heat waves. Similarly, if excess capacity of a state in january might indicate how well it can handle cold waves. \n",
    "\n",
    "# Links\n",
    "  1. [EIA - Statewise generation capacity](https://www.eia.gov/opendata/browser/electricity/state-electricity-profiles/capability?frequency=annual&data=capability;&start=2022&end=2022&sortColumn=period;&sortDirection=desc;)\n",
    "  2. [EIA - Regional, statewise electricity consumption](https://www.eia.gov/opendata/browser/electricity/retail-sales?frequency=monthly&data=sales;&start=2024-01&end=2024-01&sortColumn=period;&sortDirection=desc;)"
   ]
  },
  {
   "cell_type": "code",
   "execution_count": 2,
   "metadata": {},
   "outputs": [],
   "source": [
    "import pandas as pd\n",
    "import requests\n",
    "import json"
   ]
  },
  {
   "cell_type": "code",
   "execution_count": 20,
   "metadata": {},
   "outputs": [],
   "source": [
    "# Obtain the power production capability data from EIA database\n",
    "url = \"https://api.eia.gov/v2/electricity/state-electricity-profiles/capability/data/?frequency=annual&data[0]=capability&start=2022&end=2022&sort[0][column]=period&sort[0][direction]=desc&offset=0&length=5000\"\n",
    "username  = \"io61vpxQKgT3vR8pbLybFN6E63l5rbMlgds5t0nF\"\n",
    "# parameters = {\n",
    "#                 \"frequency\": \"annual\",\n",
    "#                 \"data\": [\n",
    "#                     \"capability\"\n",
    "#                 ],\n",
    "#                 \"facets\": {},\n",
    "#                 \"start\": \"2022\",\n",
    "#                 \"end\": \"2022\",\n",
    "#                 \"sort\": [\n",
    "#                     {\n",
    "#                         \"column\": \"period\",\n",
    "#                         \"direction\": \"desc\"\n",
    "#                     }\n",
    "#                 ],\n",
    "#                 \"offset\": 0,\n",
    "#                 \"length\": 5000\n",
    "#             }\n",
    "\n",
    "resp = requests.get(url, auth=(username,\"\"))\n",
    "raw_data = pd.DataFrame(json.loads(resp.text)['response']['data'])\n",
    "green_raw_data = raw_data[raw_data['energySourceDescription'].isin(['Solar', 'Solar - PV', \n",
    "                                                                    'Hydroelectric', 'Geothermal', 'Solar - TH'])]"
   ]
  },
  {
   "cell_type": "code",
   "execution_count": 11,
   "metadata": {},
   "outputs": [
    {
     "name": "stdout",
     "output_type": "stream",
     "text": [
      "Sample capabilities data\n",
      "  period stateId stateDescription producertypeid      producerTypeDescription  \\\n",
      "0   2022      MS      Mississippi            IPP  Independent Power Producers   \n",
      "1   2022      MS      Mississippi            IPP  Independent Power Producers   \n",
      "2   2022      MS      Mississippi            IPP  Independent Power Producers   \n",
      "3   2022      MS      Mississippi            TOT                  All sectors   \n",
      "4   2022      MS      Mississippi            TOT                  All sectors   \n",
      "\n",
      "  energysourceid energySourceDescription  capability capability-units  \n",
      "0            SOL                   Solar       219.3        megawatts  \n",
      "1          SOLPV              Solar - PV       219.3        megawatts  \n",
      "2            WOO                    Wood       300.8        megawatts  \n",
      "3            ALL                     All     14723.5        megawatts  \n",
      "4            COL                    Coal      1444.0        megawatts  \n",
      "Unique state values\n",
      "['Mississippi' 'Montana' 'North Carolina' 'North Dakota' 'Rhode Island'\n",
      " 'South Carolina' 'Minnesota' 'Missouri' 'South Dakota' 'New Mexico'\n",
      " 'Nevada' 'United States' 'Utah' 'Virginia' 'Tennessee' 'Texas'\n",
      " 'New Jersey' 'New York' 'Ohio' 'Oklahoma' 'Nebraska' 'Oregon'\n",
      " 'New Hampshire' 'Michigan' 'Pennsylvania' 'Vermont' 'Alaska' 'Alabama'\n",
      " 'Arkansas' 'Wyoming' 'Colorado' 'Connecticut' 'Kansas' 'Kentucky'\n",
      " 'Louisiana' 'District of Columbia' 'Delaware' 'Florida' 'Massachusetts'\n",
      " 'Maryland' 'Arizona' 'Washington' 'Wisconsin' 'West Virginia' 'Georgia'\n",
      " 'Hawaii' 'Maine' 'Iowa' 'Idaho' 'California' 'Illinois' 'Indiana']\n",
      "No. of unique state values:  52\n",
      "Unique energy sources: \n",
      "['Solar' 'Solar - PV' 'Wood' 'All' 'Coal' 'Natural Gas' 'Natural Gas - CC'\n",
      " 'Natural Gas - GT' 'Natural Gas - IC' 'Natural Gas - ST' 'Nuclear'\n",
      " 'Other' 'Other Biomass' 'Petroleum' 'Petroleum - IC' 'Hydroelectric'\n",
      " 'Wind' 'Other Gas' 'Petroleum - ST' 'Battery' 'Petroleum - GT'\n",
      " 'Petroleum - OTH' 'Pumped Storage' 'Geothermal' 'Natural Gas - OTH'\n",
      " 'Solar - TH']\n",
      "Sanity check: Make sure there are not mixed units\n",
      "['megawatts']\n"
     ]
    }
   ],
   "source": [
    "# Fix the data types right and explore the capabilities data\n",
    "raw_data['capability'] = raw_data['capability'].astype('float')\n",
    "print(\"Sample capabilities data\")\n",
    "print(raw_data.head())\n",
    "print(\"Unique state values\")\n",
    "print(raw_data['stateDescription'].unique())\n",
    "print(\"No. of unique state values: \", len(raw_data['stateDescription'].unique()))\n",
    "print(\"Unique energy sources: \") \n",
    "print(raw_data['energySourceDescription'].unique())\n",
    "print('Sanity check: Make sure there are not mixed units')\n",
    "print(raw_data['capability-units'].unique())\n",
    "\n"
   ]
  },
  {
   "cell_type": "code",
   "execution_count": 21,
   "metadata": {},
   "outputs": [
    {
     "name": "stdout",
     "output_type": "stream",
     "text": [
      "Sample capabilities data\n",
      "   period stateId stateDescription producertypeid  \\\n",
      "0    2022      MS      Mississippi            IPP   \n",
      "1    2022      MS      Mississippi            IPP   \n",
      "15   2022      MS      Mississippi            TOT   \n",
      "16   2022      MS      Mississippi            TOT   \n",
      "19   2022      MT          Montana             EU   \n",
      "\n",
      "        producerTypeDescription energysourceid energySourceDescription  \\\n",
      "0   Independent Power Producers            SOL                   Solar   \n",
      "1   Independent Power Producers          SOLPV              Solar - PV   \n",
      "15                  All sectors            SOL                   Solar   \n",
      "16                  All sectors          SOLPV              Solar - PV   \n",
      "19           Electric Utilities            HYC           Hydroelectric   \n",
      "\n",
      "    capability capability-units  \n",
      "0        219.3        megawatts  \n",
      "1        219.3        megawatts  \n",
      "15       319.3        megawatts  \n",
      "16       319.3        megawatts  \n",
      "19      2792.1        megawatts  \n",
      "Unique green energy sources: \n",
      "['Solar' 'Solar - PV' 'Hydroelectric' 'Geothermal' 'Solar - TH']\n",
      "Sanity check: Make sure there are not mixed units\n"
     ]
    },
    {
     "name": "stderr",
     "output_type": "stream",
     "text": [
      "C:\\Users\\dinesh\\AppData\\Local\\Temp\\ipykernel_16584\\1158029010.py:2: SettingWithCopyWarning: \n",
      "A value is trying to be set on a copy of a slice from a DataFrame.\n",
      "Try using .loc[row_indexer,col_indexer] = value instead\n",
      "\n",
      "See the caveats in the documentation: https://pandas.pydata.org/pandas-docs/stable/user_guide/indexing.html#returning-a-view-versus-a-copy\n",
      "  green_raw_data['capability'] = green_raw_data['capability'].astype('float')\n"
     ]
    }
   ],
   "source": [
    "# Fix the data types right and explore the capabilities data\n",
    "green_raw_data['capability'] = green_raw_data['capability'].astype('float')\n",
    "print(\"Sample capabilities data\")\n",
    "print(green_raw_data.head())\n",
    "print(\"Unique green energy sources: \") \n",
    "print(green_raw_data['energySourceDescription'].unique())\n",
    "print('Sanity check: Make sure there are not mixed units')\n"
   ]
  },
  {
   "cell_type": "code",
   "execution_count": 13,
   "metadata": {},
   "outputs": [
    {
     "name": "stdout",
     "output_type": "stream",
     "text": [
      "                  capability capability-units\n",
      "stateDescription                             \n",
      "Alabama             145267.4        megawatts\n",
      "Alaska               15310.4        megawatts\n",
      "Arizona             148095.0        megawatts\n",
      "Arkansas             72772.4        megawatts\n",
      "California          454375.6        megawatts\n"
     ]
    }
   ],
   "source": [
    "# Sum up capability for each state and remove data related to stateDescription of \"United States\" and \"District of Columbia\"\n",
    "capability_df = raw_data.groupby('stateDescription')[['capability']].sum()\n",
    "capability_df.drop(['United States', 'District of Columbia'], inplace=True)\n",
    "capability_df['capability-units'] = raw_data.iloc[0]['capability-units']\n",
    "print(capability_df.head())"
   ]
  },
  {
   "cell_type": "code",
   "execution_count": 22,
   "metadata": {},
   "outputs": [
    {
     "name": "stdout",
     "output_type": "stream",
     "text": [
      "                  capability capability-units\n",
      "stateDescription                             \n",
      "Alabama               8268.0        megawatts\n",
      "Alaska                 955.2        megawatts\n",
      "Arizona              17436.2        megawatts\n",
      "Arkansas              3849.2        megawatts\n",
      "California           94464.6        megawatts\n"
     ]
    }
   ],
   "source": [
    "# Sum up capability for each state and remove data related to stateDescription of \"United States\" and \"District of Columbia\"\n",
    "green_capability_df = green_raw_data.groupby('stateDescription')[['capability']].sum()\n",
    "green_capability_df.drop(['United States', 'District of Columbia'], inplace=True)\n",
    "green_capability_df['capability-units'] = raw_data.iloc[0]['capability-units']\n",
    "print(green_capability_df.head())"
   ]
  },
  {
   "cell_type": "code",
   "execution_count": 15,
   "metadata": {},
   "outputs": [],
   "source": [
    "# Get the monthly consumption data from EIA\n",
    "url = \"https://api.eia.gov/v2/electricity/retail-sales/data/?frequency=monthly&data[0]=sales&start=2023-07&end=2023-07&sort[0][column]=period&sort[0][direction]=desc&offset=0&length=5000\"\n",
    "resp = requests.get(url, auth=(username,\"\"))\n",
    "raw_data = pd.DataFrame(json.loads(resp.text)['response']['data'])\n"
   ]
  },
  {
   "cell_type": "code",
   "execution_count": 16,
   "metadata": {},
   "outputs": [
    {
     "name": "stdout",
     "output_type": "stream",
     "text": [
      "Sample consumption data\n",
      "    period stateid       stateDescription sectorid      sectorName  \\\n",
      "0  2023-07    PACC     Pacific Contiguous      RES     residential   \n",
      "1  2023-07    PACC     Pacific Contiguous      TRA  transportation   \n",
      "2  2023-07    PACN  Pacific Noncontiguous      ALL     all sectors   \n",
      "3  2023-07    PACN  Pacific Noncontiguous      COM      commercial   \n",
      "4  2023-07    PACN  Pacific Noncontiguous      IND      industrial   \n",
      "\n",
      "         sales            sales-units  \n",
      "0  12698.66275  million kilowatthours  \n",
      "1     72.43836  million kilowatthours  \n",
      "2   1249.70788  million kilowatthours  \n",
      "3    448.67737  million kilowatthours  \n",
      "4    425.51939  million kilowatthours  \n",
      "Unique state values\n",
      "['Pacific Contiguous' 'Pacific Noncontiguous' 'U.S. Total' 'Ohio'\n",
      " 'Maryland' 'Massachusetts' 'Michigan' 'Minnesota' 'Mississippi'\n",
      " 'Missouri' 'Montana' 'Nebraska' 'Nevada' 'New Hampshire' 'New Jersey'\n",
      " 'New Mexico' 'New York' 'North Carolina' 'North Dakota' 'Alabama'\n",
      " 'Alaska' 'Arizona' 'Arkansas' 'California' 'Colorado' 'Connecticut'\n",
      " 'Delaware' 'District of Columbia' 'Florida' 'Georgia' 'Hawaii' 'Idaho'\n",
      " 'Illinois' 'Indiana' 'Iowa' 'Kansas' 'Kentucky' 'Louisiana' 'Maine'\n",
      " 'Oklahoma' 'Oregon' 'Pennsylvania' 'Rhode Island' 'South Carolina'\n",
      " 'South Dakota' 'Tennessee' 'Texas' 'Utah' 'Vermont' 'Virginia'\n",
      " 'Washington' 'West Virginia' 'Wisconsin' 'Wyoming' 'New England'\n",
      " 'Middle Atlantic' 'East North Central' 'West North Central'\n",
      " 'South Atlantic' 'East South Central' 'West South Central' 'Mountain']\n",
      "No. of unique state values:  62\n",
      "Sanity check: Make sure there are not mixed units\n",
      "['million kilowatthours']\n"
     ]
    }
   ],
   "source": [
    "\n",
    "# Fix data types and explore the consumption data\n",
    "raw_data['sales'] = raw_data['sales'].astype('float')\n",
    "print(\"Sample consumption data\")\n",
    "print(raw_data.head())\n",
    "print(\"Unique state values\")\n",
    "print(raw_data['stateDescription'].unique())\n",
    "print(\"No. of unique state values: \", len(raw_data['stateDescription'].unique()))\n",
    "print('Sanity check: Make sure there are not mixed units')\n",
    "print(raw_data['sales-units'].unique())"
   ]
  },
  {
   "cell_type": "code",
   "execution_count": 17,
   "metadata": {},
   "outputs": [
    {
     "name": "stdout",
     "output_type": "stream",
     "text": [
      "Monthly consumption data sample:\n",
      "                        sales            sales-units\n",
      "stateDescription                                    \n",
      "Alabama           17218.67582  million kilowatthours\n",
      "Alaska              941.50372  million kilowatthours\n",
      "Arizona           21346.60244  million kilowatthours\n",
      "Arkansas           9704.07617  million kilowatthours\n",
      "California        45881.17636  million kilowatthours\n",
      "Sanity check: Ensure there are 50 and only 50 states in the monthly consumption dataframe:\n",
      "No. of states for which consumption data is available:  50\n"
     ]
    }
   ],
   "source": [
    "states_only_consumption_df = raw_data[raw_data['stateDescription'].isin(capability_df.index)]\n",
    "monthly_consumption_df = states_only_consumption_df.groupby('stateDescription')[['sales']].sum()\n",
    "monthly_consumption_df['sales-units'] = states_only_consumption_df.iloc[0]['sales-units']\n",
    "print(\"Monthly consumption data sample:\")\n",
    "print(monthly_consumption_df.head())\n",
    "print(\"Sanity check: Ensure there are 50 and only 50 states in the monthly consumption dataframe:\")\n",
    "print(\"No. of states for which consumption data is available: \", len(monthly_consumption_df.index))"
   ]
  },
  {
   "cell_type": "markdown",
   "metadata": {},
   "source": [
    "## Excess capacity calculation\n",
    "The production capability data (*capability_df*) mentions power capability in megawatts. To calculate excess capacity, we need to find to first out the average power consumption in mega watts given the monthly energy consumption - i.e., sales - figure (*monthly_consumption_df*). To do this, we go through the following steps:\n",
    "\n",
    "  1. Convert sales in million kilowatthours to kilowatthours:\n",
    "  $$\n",
    "  sales(kWh/mo.) = sales(million\\ kWh/mo.)*1000000\n",
    "  $$\n",
    "  2. Convert sales in kilowatthours into megawatthours\n",
    "  $$\n",
    "  sales(MWh/mo.) = \\dfrac{sales(kWh/mo.)}{1000}\n",
    "  $$\n",
    "  3. Deduce the average power consumption in MW throughout the month by dividing the energy consumption in MWh by divided it with the number of hours in a month\n",
    "  $$\n",
    "  Avg.\\ power\\ consumption (MW) =  \\dfrac{sales(MWh/mo.)}{30(days/mo.)*24(hours/day)} = \\dfrac{sales(MWh/mo.)}{30*24(hours/mo.)}\n",
    "  $$\n",
    "\n",
    "After obtaining the average power consumption in mega watts, we need to one more thing: From EIA [gid monitor](https://www.eia.gov/electricity/gridmonitor/dashboard/electric_overview/US48/US48) data, we find that the day time peak in the month of july is 1.25 times the average power consumption during the day (I measured it manually by eyeballing the graphs). We can combine the three steps described above and the scaling of 1.25 in one step as:\n",
    "$$\n",
    "Peak\\ power\\ consumption (MW) = \\dfrac{sales(million\\ kWh/mo.)*1250}{30*24}\n",
    "$$"
   ]
  },
  {
   "cell_type": "code",
   "execution_count": 18,
   "metadata": {},
   "outputs": [
    {
     "name": "stdout",
     "output_type": "stream",
     "text": [
      "   stateDescription  excess capacity\n",
      "0           Alabama    115373.865590\n",
      "1            Alaska     13675.844931\n",
      "2           Arizona    111034.926319\n",
      "3          Arkansas     55925.045538\n",
      "4        California    374720.779931\n",
      "5          Colorado     69133.289549\n",
      "6       Connecticut     45469.757743\n",
      "7          Delaware     14884.623715\n",
      "8           Florida    290373.086042\n",
      "9           Georgia    136205.203542\n",
      "10           Hawaii     13532.891632\n",
      "11            Idaho     14755.096771\n",
      "12         Illinois    168150.008854\n",
      "13          Indiana     93015.473924\n",
      "14             Iowa     83033.576701\n",
      "15           Kansas     67712.543090\n",
      "16         Kentucky     61600.223750\n",
      "17        Louisiana    104235.214497\n",
      "18            Maine     22920.391580\n",
      "19         Maryland     42286.055590\n",
      "20    Massachusetts     54062.318438\n",
      "21         Michigan    118288.049653\n",
      "22        Minnesota     68066.683941\n",
      "23      Mississippi     64535.448125\n",
      "24         Missouri     70760.238854\n",
      "25          Montana     22289.069097\n",
      "26         Nebraska     36933.097396\n",
      "27           Nevada     59535.430573\n",
      "28    New Hampshire     17695.624080\n",
      "29       New Jersey     63923.642326\n",
      "30       New Mexico     39202.225642\n",
      "31         New York    165527.521354\n",
      "32   North Carolina    138190.543924\n",
      "33     North Dakota     30735.989028\n",
      "34             Ohio     91282.368368\n",
      "35         Oklahoma    138616.045590\n",
      "36           Oregon     61739.597674\n",
      "37     Pennsylvania    205269.141788\n",
      "38     Rhode Island      9958.999531\n",
      "39   South Carolina     84095.109601\n",
      "40     South Dakota     24297.140851\n",
      "41        Tennessee     67072.795313\n",
      "42            Texas    584382.030382\n",
      "43             Utah     34647.119045\n",
      "44          Vermont      2174.632222\n",
      "45         Virginia    109457.728854\n",
      "46       Washington    106693.656597\n",
      "47    West Virginia     52680.140764\n",
      "48        Wisconsin     62024.104375\n",
      "49          Wyoming     37036.725278\n"
     ]
    }
   ],
   "source": [
    "# Calculate excess capacity\n",
    "# First reverse engineer state hourly consumption level and find the max hourly consumption \n",
    "excess_capacity =  capability_df['capability'] - monthly_consumption_df['sales']*1250/(30*24)\n",
    "excess_capacity_df = pd.DataFrame(excess_capacity, columns=['excess capacity'])\n",
    "excess_capacity_df.reset_index(inplace=True)\n",
    "print(excess_capacity_df)\n",
    "excess_capacity_df.to_csv('excess_capacity.csv', index=False)"
   ]
  },
  {
   "cell_type": "code",
   "execution_count": 23,
   "metadata": {},
   "outputs": [
    {
     "name": "stdout",
     "output_type": "stream",
     "text": [
      "   stateDescription  green excess capacity\n",
      "0           Alabama          -21625.534410\n",
      "1            Alaska            -679.355069\n",
      "2           Arizona          -19623.873681\n",
      "3          Arkansas          -12998.154462\n",
      "4        California           14809.779931\n",
      "5          Colorado          -12306.310451\n",
      "6       Connecticut           -9045.042257\n",
      "7          Delaware           -3564.576285\n",
      "8           Florida          -66327.313958\n",
      "9           Georgia          -32858.196458\n",
      "10           Hawaii           -1245.508368\n",
      "11            Idaho           -3067.103229\n",
      "12         Illinois          -41656.191146\n",
      "13          Indiana          -29526.926076\n",
      "14             Iowa          -15422.223299\n",
      "15           Kansas          -14684.456910\n",
      "16         Kentucky          -20829.176250\n",
      "17        Louisiana          -32577.585503\n",
      "18            Maine            -570.808420\n",
      "19         Maryland          -17142.544410\n",
      "20    Massachusetts          -11544.881563\n",
      "21         Michigan          -29496.550347\n",
      "22        Minnesota          -15665.916059\n",
      "23      Mississippi          -16231.751875\n",
      "24         Missouri          -25662.561146\n",
      "25          Montana            1340.469097\n",
      "26         Nebraska          -10279.102604\n",
      "27           Nevada             883.030573\n",
      "28    New Hampshire           -2614.975920\n",
      "29       New Jersey          -23705.757674\n",
      "30       New Mexico           -6441.374358\n",
      "31         New York          -33809.678646\n",
      "32   North Carolina          -20714.056076\n",
      "33     North Dakota           -7121.610972\n",
      "34             Ohio          -47650.631632\n",
      "35         Oklahoma          -23169.554410\n",
      "36           Oregon            3621.797674\n",
      "37     Pennsylvania          -43344.858212\n",
      "38     Rhode Island           -1726.400469\n",
      "39   South Carolina          -21604.090399\n",
      "40     South Dakota            -753.459149\n",
      "41        Tennessee          -26183.804688\n",
      "42            Texas         -130387.969618\n",
      "43             Utah           -5578.080955\n",
      "44          Vermont            -493.967778\n",
      "45         Virginia          -30580.071146\n",
      "46       Washington           19737.656597\n",
      "47    West Virginia           -9153.059236\n",
      "48        Wisconsin          -18498.095625\n",
      "49          Wyoming           -3734.474722\n"
     ]
    }
   ],
   "source": [
    "# Calculate green excess capacity\n",
    "# First reverse engineer state hourly consumption level and find the max hourly consumption \n",
    "green_excess_capacity =  green_capability_df['capability'] - monthly_consumption_df['sales']*1250/(30*24)\n",
    "green_excess_capacity_df = pd.DataFrame(green_excess_capacity, columns=['green excess capacity'])\n",
    "green_excess_capacity_df.reset_index(inplace=True)\n",
    "print(green_excess_capacity_df)\n",
    "green_excess_capacity_df.to_csv('green_excess_capacity.csv', index=False)"
   ]
  },
  {
   "cell_type": "code",
   "execution_count": null,
   "metadata": {},
   "outputs": [],
   "source": [
    "# Implement a simple risk rating method\n"
   ]
  }
 ],
 "metadata": {
  "kernelspec": {
   "display_name": "Python 3",
   "language": "python",
   "name": "python3"
  },
  "language_info": {
   "codemirror_mode": {
    "name": "ipython",
    "version": 3
   },
   "file_extension": ".py",
   "mimetype": "text/x-python",
   "name": "python",
   "nbconvert_exporter": "python",
   "pygments_lexer": "ipython3",
   "version": "3.11.9"
  }
 },
 "nbformat": 4,
 "nbformat_minor": 2
}
