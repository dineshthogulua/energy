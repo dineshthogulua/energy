{
 "cells": [
  {
   "cell_type": "markdown",
   "metadata": {},
   "source": [
    "# Overview\n",
    "We wish to know the excess electricity production capacity in every state in the U.S. during a specific month. The idea is to find out how well states are poised to serve excess demand during extreme weather events. For example, if we find out the excess capacity of a state in july, it might indicate how well the state can handle spikes in demand during heat waves. Similarly, if excess capacity of a state in january might indicate how well it can handle cold waves. \n",
    "\n",
    "# Links\n",
    "  1. [EIA - Statewise generation capacity](https://www.eia.gov/opendata/browser/electricity/state-electricity-profiles/capability?frequency=annual&data=capability;&start=2022&end=2022&sortColumn=period;&sortDirection=desc;)\n",
    "  2. [EIA - Regional, statewise electricity consumption](https://www.eia.gov/opendata/browser/electricity/retail-sales?frequency=monthly&data=sales;&start=2024-01&end=2024-01&sortColumn=period;&sortDirection=desc;)"
   ]
  },
  {
   "cell_type": "code",
   "execution_count": 4,
   "metadata": {},
   "outputs": [],
   "source": [
    "import pandas as pd\n",
    "import requests\n",
    "import json"
   ]
  },
  {
   "cell_type": "code",
   "execution_count": 19,
   "metadata": {},
   "outputs": [],
   "source": [
    "# Obtain the power production capability data from EIA database\n",
    "url = \"https://api.eia.gov/v2/electricity/state-electricity-profiles/capability/data/?frequency=annual&data[0]=capability&start=2022&end=2022&sort[0][column]=period&sort[0][direction]=desc&offset=0&length=5000\"\n",
    "username  = \"io61vpxQKgT3vR8pbLybFN6E63l5rbMlgds5t0nF\"\n",
    "# parameters = {\n",
    "#                 \"frequency\": \"annual\",\n",
    "#                 \"data\": [\n",
    "#                     \"capability\"\n",
    "#                 ],\n",
    "#                 \"facets\": {},\n",
    "#                 \"start\": \"2022\",\n",
    "#                 \"end\": \"2022\",\n",
    "#                 \"sort\": [\n",
    "#                     {\n",
    "#                         \"column\": \"period\",\n",
    "#                         \"direction\": \"desc\"\n",
    "#                     }\n",
    "#                 ],\n",
    "#                 \"offset\": 0,\n",
    "#                 \"length\": 5000\n",
    "#             }\n",
    "\n",
    "resp = requests.get(url, auth=(username,\"\"))\n",
    "raw_data = pd.DataFrame(json.loads(resp.text)['response']['data'])"
   ]
  },
  {
   "cell_type": "code",
   "execution_count": 30,
   "metadata": {},
   "outputs": [
    {
     "name": "stdout",
     "output_type": "stream",
     "text": [
      "Sample raw data\n",
      "  period stateId stateDescription producertypeid      producerTypeDescription  \\\n",
      "0   2022      MS      Mississippi            IPP  Independent Power Producers   \n",
      "1   2022      MS      Mississippi            IPP  Independent Power Producers   \n",
      "2   2022      MS      Mississippi            IPP  Independent Power Producers   \n",
      "3   2022      MS      Mississippi            TOT                  All sectors   \n",
      "4   2022      MS      Mississippi            TOT                  All sectors   \n",
      "\n",
      "  energysourceid energySourceDescription  capability capability-units  \n",
      "0            SOL                   Solar       219.3        megawatts  \n",
      "1          SOLPV              Solar - PV       219.3        megawatts  \n",
      "2            WOO                    Wood       300.8        megawatts  \n",
      "3            ALL                     All     14723.5        megawatts  \n",
      "4            COL                    Coal      1444.0        megawatts  \n",
      "Unique state values\n",
      "['Mississippi' 'Montana' 'North Carolina' 'North Dakota' 'Rhode Island'\n",
      " 'South Carolina' 'Minnesota' 'Missouri' 'South Dakota' 'New Mexico'\n",
      " 'Nevada' 'United States' 'Utah' 'Virginia' 'Tennessee' 'Texas'\n",
      " 'New Jersey' 'New York' 'Ohio' 'Oklahoma' 'Nebraska' 'Oregon'\n",
      " 'New Hampshire' 'Michigan' 'Pennsylvania' 'Vermont' 'Alaska' 'Alabama'\n",
      " 'Arkansas' 'Wyoming' 'Colorado' 'Connecticut' 'Kansas' 'Kentucky'\n",
      " 'Louisiana' 'District of Columbia' 'Delaware' 'Florida' 'Massachusetts'\n",
      " 'Maryland' 'Arizona' 'Washington' 'Wisconsin' 'West Virginia' 'Georgia'\n",
      " 'Hawaii' 'Maine' 'Iowa' 'Idaho' 'California' 'Illinois' 'Indiana']\n",
      "No. of unique state values:  52\n",
      "Sanity check: Make sure there are not mixed units\n",
      "['megawatts']\n"
     ]
    }
   ],
   "source": [
    "# Fix the data types right and explore the capabilities data\n",
    "raw_data['capability'] = raw_data['capability'].astype('float')\n",
    "print(\"Sample capabilities data\")\n",
    "print(raw_data.head())\n",
    "print(\"Unique state values\")\n",
    "print(raw_data['stateDescription'].unique())\n",
    "print(\"No. of unique state values: \", len(raw_data['stateDescription'].unique()))\n",
    "print('Sanity check: Make sure there are not mixed units')\n",
    "print(raw_data['capability-units'].unique())\n",
    "\n"
   ]
  },
  {
   "cell_type": "code",
   "execution_count": 34,
   "metadata": {},
   "outputs": [
    {
     "name": "stdout",
     "output_type": "stream",
     "text": [
      "                  capability capability-units\n",
      "stateDescription                             \n",
      "Alabama             145267.4        megawatts\n",
      "Alaska               15310.4        megawatts\n",
      "Arizona             148095.0        megawatts\n",
      "Arkansas             72772.4        megawatts\n",
      "California          454375.6        megawatts\n"
     ]
    }
   ],
   "source": [
    "# Sum up capability for each state and remove data related to stateDescription of \"United States\" and \"District of Columbia\"\n",
    "capability_df = raw_data.groupby('stateDescription')[['capability']].sum()\n",
    "capability_df.drop(['United States', 'District of Columbia'], inplace=True)\n",
    "capability_df['capability-units'] = raw_data.iloc[0]['capability-units']\n",
    "print(capability_df.head())"
   ]
  },
  {
   "cell_type": "code",
   "execution_count": 41,
   "metadata": {},
   "outputs": [],
   "source": [
    "# Get the monthly consumption data from EIA\n",
    "url = \"https://api.eia.gov/v2/electricity/retail-sales/data/?frequency=monthly&data[0]=sales&start=2024-01&end=2024-01&sort[0][column]=period&sort[0][direction]=desc&offset=0&length=5000\"\n",
    "resp = requests.get(url, auth=(username,\"\"))\n",
    "raw_data = pd.DataFrame(json.loads(resp.text)['response']['data'])\n"
   ]
  },
  {
   "cell_type": "code",
   "execution_count": 42,
   "metadata": {},
   "outputs": [
    {
     "name": "stdout",
     "output_type": "stream",
     "text": [
      "Sample consumption data\n",
      "    period stateid    stateDescription sectorid      sectorName        sales  \\\n",
      "0  2024-01    PACC  Pacific Contiguous      COM      commercial  13598.56698   \n",
      "1  2024-01    PACC  Pacific Contiguous      IND      industrial   6217.68149   \n",
      "2  2024-01    PACC  Pacific Contiguous      OTH           other          NaN   \n",
      "3  2024-01    PACC  Pacific Contiguous      RES     residential  14495.83095   \n",
      "4  2024-01    PACC  Pacific Contiguous      TRA  transportation     61.33932   \n",
      "\n",
      "             sales-units  \n",
      "0  million kilowatthours  \n",
      "1  million kilowatthours  \n",
      "2  million kilowatthours  \n",
      "3  million kilowatthours  \n",
      "4  million kilowatthours  \n",
      "Unique state values\n",
      "['Pacific Contiguous' 'Pacific Noncontiguous' 'U.S. Total'\n",
      " 'South Atlantic' 'East South Central' 'West South Central' 'Mountain'\n",
      " 'Maine' 'Maryland' 'Massachusetts' 'Michigan' 'Minnesota' 'Mississippi'\n",
      " 'Missouri' 'Montana' 'Nebraska' 'Nevada' 'New Hampshire' 'New Jersey'\n",
      " 'New Mexico' 'New York' 'North Carolina' 'North Dakota' 'Ohio' 'Oklahoma'\n",
      " 'Oregon' 'Pennsylvania' 'Rhode Island' 'South Carolina' 'South Dakota'\n",
      " 'Tennessee' 'Texas' 'Utah' 'Vermont' 'Virginia' 'Washington'\n",
      " 'West Virginia' 'Wisconsin' 'Wyoming' 'New England' 'Middle Atlantic'\n",
      " 'East North Central' 'West North Central' 'Connecticut' 'Delaware'\n",
      " 'District of Columbia' 'Florida' 'Georgia' 'Hawaii' 'Idaho' 'Illinois'\n",
      " 'Indiana' 'Iowa' 'Kansas' 'Kentucky' 'Louisiana' 'California' 'Colorado'\n",
      " 'Alabama' 'Alaska' 'Arizona' 'Arkansas']\n",
      "No. of unique state values:  62\n",
      "Sanity check: Make sure there are not mixed units\n",
      "['million kilowatthours']\n"
     ]
    }
   ],
   "source": [
    "\n",
    "# Fix data types and explore the consumption data\n",
    "raw_data['sales'] = raw_data['sales'].astype('float')\n",
    "print(\"Sample consumption data\")\n",
    "print(raw_data.head())\n",
    "print(\"Unique state values\")\n",
    "print(raw_data['stateDescription'].unique())\n",
    "print(\"No. of unique state values: \", len(raw_data['stateDescription'].unique()))\n",
    "print('Sanity check: Make sure there are not mixed units')\n",
    "print(raw_data['sales-units'].unique())"
   ]
  },
  {
   "cell_type": "code",
   "execution_count": 50,
   "metadata": {},
   "outputs": [
    {
     "name": "stdout",
     "output_type": "stream",
     "text": [
      "Monthly consumption data sample:\n",
      "                        sales\n",
      "stateDescription             \n",
      "Alabama           16039.63043\n",
      "Alaska             1176.41614\n",
      "Arizona           12652.16965\n",
      "Arkansas           9197.26295\n",
      "California        40088.03973\n",
      "Sanity check: Ensure there are 50 and only 50 states in the monthly consumption dataframe:\n",
      "No. of states for which consumption data is available:  50\n"
     ]
    }
   ],
   "source": [
    "states_only_consumption_df = raw_data[raw_data['stateDescription'].isin(capability_df.index)]\n",
    "monthly_consumption_df = states_only_consumption_df.groupby('stateDescription')[['sales']].sum()\n",
    "print(\"Monthly consumption data sample:\")\n",
    "print(monthly_consumption_df.head())\n",
    "print(\"Sanity check: Ensure there are 50 and only 50 states in the monthly consumption dataframe:\")\n",
    "print(\"No. of states for which consumption data is available: \", len(monthly_consumption_df.index))"
   ]
  },
  {
   "cell_type": "code",
   "execution_count": 48,
   "metadata": {},
   "outputs": [
    {
     "name": "stdout",
     "output_type": "stream",
     "text": [
      "50\n"
     ]
    }
   ],
   "source": []
  }
 ],
 "metadata": {
  "kernelspec": {
   "display_name": "Python 3",
   "language": "python",
   "name": "python3"
  },
  "language_info": {
   "codemirror_mode": {
    "name": "ipython",
    "version": 3
   },
   "file_extension": ".py",
   "mimetype": "text/x-python",
   "name": "python",
   "nbconvert_exporter": "python",
   "pygments_lexer": "ipython3",
   "version": "3.11.9"
  }
 },
 "nbformat": 4,
 "nbformat_minor": 2
}
